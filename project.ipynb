{
 "cells": [
  {
   "cell_type": "markdown",
   "metadata": {},
   "source": [
    "# Prediction of Student Success: A Machine Learning Approach\n",
    "\n",
    "<p style=\"font-size:16px\">\n",
    "<strong>Autores:</strong> Amanda Carneiro, Kelton Da Silva,Pedro Da Graça <br>\n",
    "<strong>Curso:</strong> IA e Ciência de Dados – 1º Ano, 2º Semestre <br>\n",
    "<strong>Ano Letivo:</strong> 2024/2025\n",
    "</p>\n"
   ]
  },
  {
   "cell_type": "markdown",
   "metadata": {},
   "source": [
    "AAAAAA\n"
   ]
  },
  {
   "cell_type": "markdown",
   "metadata": {},
   "source": [
    "### Introduction\n",
    "\n",
    "In the context of secondary education, the early identification of students who are at risk of failing is crucial for implementing timely interventions. This project aims to develop a machine learning pipeline capable of predicting whether a student will pass their final exam, using the UCI Student Performance dataset.\n",
    "\n",
    "The dataset contains demographic, social, and academic information of students from two Portuguese schools. By applying supervised learning techniques, we aim to build a reliable classification model that can help educators and school administrators identify students in need of academic support.\n",
    "\n",
    "This notebook presents the full development of the system, including:\n",
    "- Data exploration and visualization,\n",
    "- Data cleaning and preprocessing,\n",
    "- Model training and evaluation using different algorithms,\n",
    "- Result interpretation and discussion.\n",
    "\n",
    "Our goal is to contribute to responsible AI practices in education by providing explainable, data-driven insights to support student success.\n",
    "\n"
   ]
  }
 ],
 "metadata": {
  "kernelspec": {
   "display_name": "data_science",
   "language": "python",
   "name": "python3"
  },
  "language_info": {
   "codemirror_mode": {
    "name": "ipython",
    "version": 3
   },
   "file_extension": ".py",
   "mimetype": "text/x-python",
   "name": "python",
   "nbconvert_exporter": "python",
   "pygments_lexer": "ipython3",
   "version": "3.11.11"
  }
 },
 "nbformat": 4,
 "nbformat_minor": 2
}
