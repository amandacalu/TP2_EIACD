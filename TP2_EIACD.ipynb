{
 "cells": [
  {
   "cell_type": "markdown",
   "metadata": {},
   "source": [
    "# Prediction of Student Success: A Machine Learning Approach\n",
    "\n",
    "<p style=\"font-size:16px\">\n",
    "<strong>Autores:</strong> Amanda Carneiro, Kelton Da Silva,Pedro Da Graça <br>\n",
    "<strong>Curso:</strong> IA e Ciência de Dados – 1º Ano, 2º Semestre <br>\n",
    "<strong>Ano Letivo:</strong> 2024/2025\n",
    "</p>\n"
   ]
  },
  {
   "cell_type": "markdown",
   "metadata": {},
   "source": [
    "### Introduction\n",
    "\n",
    "In the context of secondary education, the early identification of students who are at risk of failing is crucial for implementing timely interventions. This project aims to develop a machine learning pipeline capable of predicting whether a student will pass their final exam, using the UCI Student Performance dataset.\n",
    "\n",
    "The dataset contains demographic, social, and academic information of students from two Portuguese schools. By applying supervised learning techniques, we aim to build a reliable classification model that can help educators and school administrators identify students in need of academic support.\n",
    "\n",
    "This notebook presents the full development of the system, including:\n",
    "- 1. Exploratory Data Analysis (EDA),\n",
    "- 2. Data cleaning and preprocessing,\n",
    "- 3. Data Modeling (Supervised Leanirng),\n",
    "- 4. Performance Evaluation,\n",
    "- 5. Result interpretation and discussion.\n",
    "- 6. (Extra) Clustering\n",
    "\n",
    "Our goal is to contribute to responsible AI practices in education by providing explainable, data-driven insights to support student success.\n",
    "\n"
   ]
  },
  {
   "cell_type": "markdown",
   "metadata": {},
   "source": [
    "## 1. Exploratory Data Analysis (EDA)\n",
    "\n",
    "### 1.1 - Importing Modules\n",
    "\n",
    "The following technologies and libraries were used throughout this project:\n",
    "\n",
    "- [**Python**](https://www.python.org/) – Primary programming language.\n",
    "- [**Anaconda**](https://www.anaconda.com/) – Distribution that simplifies package and environment management.\n",
    "- [**Project Jupyter**](https://jupyter.org/) – Interactive notebook environment for data science workflows.\n",
    "- [**NumPy**](https://numpy.org/) – Library for numerical and array-based operations.\n",
    "- [**SciPy**](https://www.scipy.org/) – Scientific extensions for NumPy.\n",
    "- [**Pandas**](https://pandas.pydata.org/) – Data structure and tabular analysis library.\n",
    "- [**Scikit-Learn**](https://scikit-learn.org/) – Machine learning tools for classification, regression, and more.\n",
    "- [**MatPlotLib**](https://matplotlib.org/) – Basic plotting and visualization library.\n",
    "- [**Seaborn**](https://seaborn.pydata.org/) – Statistical data visualization built on top of MatPlotLib.\n"
   ]
  },
  {
   "cell_type": "code",
   "execution_count": null,
   "metadata": {},
   "outputs": [],
   "source": [
    "#Importing Modules with shortcuts\n",
    "import numpy as np\n",
    "import scipy as sp\n",
    "import matplotlib.pyplot as plt\n",
    "import pandas as pd\n",
    "import seaborn as sns"
   ]
  },
  {
   "cell_type": "markdown",
   "metadata": {},
   "source": [
    "### 1.2 - The Dataset\n",
    "\n",
    "For this project, we will use the dataset provided on Moodle, a file named **\"student-data.csv\"**. This dataset contains student-related information such as demographics, family background, school performance, and social factors.\n",
    "\n",
    "####    1.2.1 - Loading the Dataset\n",
    "\n",
    "We will load the CSV file using the **Pandas** library and store it in a variable named **`sd`** (short for \"student data\").\n"
   ]
  },
  {
   "cell_type": "code",
   "execution_count": null,
   "metadata": {},
   "outputs": [],
   "source": [
    "#Read 'student-data.csv' file using Pandas\n",
    "sd = pd.read_csv(\"student-data.csv\", sep=',')"
   ]
  },
  {
   "cell_type": "markdown",
   "metadata": {},
   "source": [
    "#### 1.2.2 - About the Dataset\n",
    "\n",
    "The main objective of this dataset is to predict whether a student will **pass the final exam**, based on a combination of demographic, academic, social, and behavioral features.\n",
    "\n",
    "\n"
   ]
  },
  {
   "cell_type": "code",
   "execution_count": null,
   "metadata": {},
   "outputs": [
    {
     "data": {
      "text/plain": [
       "pandas.core.frame.DataFrame"
      ]
     },
     "execution_count": 12,
     "metadata": {},
     "output_type": "execute_result"
    }
   ],
   "source": [
    "#Type of Dataframe 'sd'\n",
    "type(sd)"
   ]
  },
  {
   "cell_type": "markdown",
   "metadata": {},
   "source": [
    "#### 1.2.3 - Initial Structure of the Dataset\n",
    "\n",
    "The data was collected from two Portuguese secondary schools. Each row in the dataset represents a single student, and the columns describe various attributes related to their demographics, academic background, and social context. Below is a description of the available columns:\n",
    "\n",
    "| Column       | Description                                                                |\n",
    "| ------------ | -------------------------------------------------------------------------- |\n",
    "| `school`     | School the student attends *(e.g., \"GP\", \"MS\")*                            |\n",
    "| `sex`        | Gender of the student: `F` = female, `M` = male                            |\n",
    "| `age`        | Age of the student (integer)                                               |\n",
    "| `address`    | Home address type: `U` = urban, `R` = rural                                |\n",
    "| `famsize`    | Family size: `LE3` = 3 or less, `GT3` = more than 3                        |\n",
    "| `Pstatus`    | Parent's cohabitation status: `T` = together, `A` = apart                  |\n",
    "| `Medu`       | Mother’s education level (0 = none to 4 = higher education)                |\n",
    "| `Fedu`       | Father’s education level (same scale as `Medu`)                            |\n",
    "| `Mjob`       | Mother’s job (e.g., \"at\\_home\", \"health\", \"services\", \"teacher\", etc.)     |\n",
    "| `Fjob`       | Father’s job (same values as `Mjob`)                                       |\n",
    "| `reason`     | Reason for choosing the school (e.g., \"home\", \"course\", \"reputation\")      |\n",
    "| `guardian`   | Student's legal guardian (`mother`, `father`, `other`)                     |\n",
    "| `traveltime` | Travel time to school (1 = <15min, 2 = 15–30min, 3 = 30min–1h, 4 = >1h)    |\n",
    "| `studytime`  | Weekly study time (1 = <2h, 2 = 2–5h, 3 = 5–10h, 4 = >10h)                 |\n",
    "| `failures`   | Number of past class failures (0–3, where 3 means \"3 or more\")             |\n",
    "| `schoolsup`  | Extra educational support (`yes` or `no`)                                  |\n",
    "| `famsup`     | Family educational support (`yes` or `no`)                                 |\n",
    "| `paid`       | Extra paid classes (e.g., tutoring) (`yes` or `no`)                        |\n",
    "| `activities` | Participation in extracurricular activities (`yes` or `no`)                |\n",
    "| `nursery`    | Attended nursery school (`yes` or `no`)                                    |\n",
    "| `higher`     | Aspires to higher education (`yes` or `no`)                                |\n",
    "| `internet`   | Internet access at home (`yes` or `no`)                                    |\n",
    "| `romantic`   | In a romantic relationship (`yes` or `no`)                                 |\n",
    "| `famrel`     | Quality of family relationships (1 = very bad to 5 = excellent)            |\n",
    "| `freetime`   | Free time after school (1 = very low to 5 = very high)                     |\n",
    "| `goout`      | Frequency of going out with friends (1 = very low to 5 = very high)        |\n",
    "| `Dalc`       | Workday alcohol consumption (1 = very low to 5 = very high)                |\n",
    "| `Walc`       | Weekend alcohol consumption (1 = very low to 5 = very high)                |\n",
    "| `health`     | Current health status (1 = very bad to 5 = very good)                      |\n",
    "| `absences`   | Number of school absences (integer)                                        |\n",
    "| `passed`     | Target variable: whether the student passed the final exam (`yes` or `no`) |\n"
   ]
  },
  {
   "cell_type": "code",
   "execution_count": null,
   "metadata": {},
   "outputs": [
    {
     "data": {
      "text/html": [
       "<div>\n",
       "<style scoped>\n",
       "    .dataframe tbody tr th:only-of-type {\n",
       "        vertical-align: middle;\n",
       "    }\n",
       "\n",
       "    .dataframe tbody tr th {\n",
       "        vertical-align: top;\n",
       "    }\n",
       "\n",
       "    .dataframe thead th {\n",
       "        text-align: right;\n",
       "    }\n",
       "</style>\n",
       "<table border=\"1\" class=\"dataframe\">\n",
       "  <thead>\n",
       "    <tr style=\"text-align: right;\">\n",
       "      <th></th>\n",
       "      <th>school</th>\n",
       "      <th>sex</th>\n",
       "      <th>age</th>\n",
       "      <th>address</th>\n",
       "      <th>famsize</th>\n",
       "      <th>Pstatus</th>\n",
       "      <th>Medu</th>\n",
       "      <th>Fedu</th>\n",
       "      <th>Mjob</th>\n",
       "      <th>Fjob</th>\n",
       "      <th>...</th>\n",
       "      <th>internet</th>\n",
       "      <th>romantic</th>\n",
       "      <th>famrel</th>\n",
       "      <th>freetime</th>\n",
       "      <th>goout</th>\n",
       "      <th>Dalc</th>\n",
       "      <th>Walc</th>\n",
       "      <th>health</th>\n",
       "      <th>absences</th>\n",
       "      <th>passed</th>\n",
       "    </tr>\n",
       "  </thead>\n",
       "  <tbody>\n",
       "    <tr>\n",
       "      <th>0</th>\n",
       "      <td>GP</td>\n",
       "      <td>F</td>\n",
       "      <td>18</td>\n",
       "      <td>U</td>\n",
       "      <td>GT3</td>\n",
       "      <td>A</td>\n",
       "      <td>4</td>\n",
       "      <td>4</td>\n",
       "      <td>at_home</td>\n",
       "      <td>teacher</td>\n",
       "      <td>...</td>\n",
       "      <td>no</td>\n",
       "      <td>no</td>\n",
       "      <td>4</td>\n",
       "      <td>3</td>\n",
       "      <td>4</td>\n",
       "      <td>1</td>\n",
       "      <td>1</td>\n",
       "      <td>3</td>\n",
       "      <td>6</td>\n",
       "      <td>no</td>\n",
       "    </tr>\n",
       "    <tr>\n",
       "      <th>1</th>\n",
       "      <td>GP</td>\n",
       "      <td>F</td>\n",
       "      <td>17</td>\n",
       "      <td>U</td>\n",
       "      <td>GT3</td>\n",
       "      <td>T</td>\n",
       "      <td>1</td>\n",
       "      <td>1</td>\n",
       "      <td>at_home</td>\n",
       "      <td>other</td>\n",
       "      <td>...</td>\n",
       "      <td>yes</td>\n",
       "      <td>no</td>\n",
       "      <td>5</td>\n",
       "      <td>3</td>\n",
       "      <td>3</td>\n",
       "      <td>1</td>\n",
       "      <td>1</td>\n",
       "      <td>3</td>\n",
       "      <td>4</td>\n",
       "      <td>no</td>\n",
       "    </tr>\n",
       "    <tr>\n",
       "      <th>2</th>\n",
       "      <td>GP</td>\n",
       "      <td>F</td>\n",
       "      <td>15</td>\n",
       "      <td>U</td>\n",
       "      <td>LE3</td>\n",
       "      <td>T</td>\n",
       "      <td>1</td>\n",
       "      <td>1</td>\n",
       "      <td>at_home</td>\n",
       "      <td>other</td>\n",
       "      <td>...</td>\n",
       "      <td>yes</td>\n",
       "      <td>no</td>\n",
       "      <td>4</td>\n",
       "      <td>3</td>\n",
       "      <td>2</td>\n",
       "      <td>2</td>\n",
       "      <td>3</td>\n",
       "      <td>3</td>\n",
       "      <td>10</td>\n",
       "      <td>yes</td>\n",
       "    </tr>\n",
       "    <tr>\n",
       "      <th>3</th>\n",
       "      <td>GP</td>\n",
       "      <td>F</td>\n",
       "      <td>15</td>\n",
       "      <td>U</td>\n",
       "      <td>GT3</td>\n",
       "      <td>T</td>\n",
       "      <td>4</td>\n",
       "      <td>2</td>\n",
       "      <td>health</td>\n",
       "      <td>services</td>\n",
       "      <td>...</td>\n",
       "      <td>yes</td>\n",
       "      <td>yes</td>\n",
       "      <td>3</td>\n",
       "      <td>2</td>\n",
       "      <td>2</td>\n",
       "      <td>1</td>\n",
       "      <td>1</td>\n",
       "      <td>5</td>\n",
       "      <td>2</td>\n",
       "      <td>yes</td>\n",
       "    </tr>\n",
       "    <tr>\n",
       "      <th>4</th>\n",
       "      <td>GP</td>\n",
       "      <td>F</td>\n",
       "      <td>16</td>\n",
       "      <td>U</td>\n",
       "      <td>GT3</td>\n",
       "      <td>T</td>\n",
       "      <td>3</td>\n",
       "      <td>3</td>\n",
       "      <td>other</td>\n",
       "      <td>other</td>\n",
       "      <td>...</td>\n",
       "      <td>no</td>\n",
       "      <td>no</td>\n",
       "      <td>4</td>\n",
       "      <td>3</td>\n",
       "      <td>2</td>\n",
       "      <td>1</td>\n",
       "      <td>2</td>\n",
       "      <td>5</td>\n",
       "      <td>4</td>\n",
       "      <td>yes</td>\n",
       "    </tr>\n",
       "  </tbody>\n",
       "</table>\n",
       "<p>5 rows × 31 columns</p>\n",
       "</div>"
      ],
      "text/plain": [
       "  school sex  age address famsize Pstatus  Medu  Fedu     Mjob      Fjob  ...  \\\n",
       "0     GP   F   18       U     GT3       A     4     4  at_home   teacher  ...   \n",
       "1     GP   F   17       U     GT3       T     1     1  at_home     other  ...   \n",
       "2     GP   F   15       U     LE3       T     1     1  at_home     other  ...   \n",
       "3     GP   F   15       U     GT3       T     4     2   health  services  ...   \n",
       "4     GP   F   16       U     GT3       T     3     3    other     other  ...   \n",
       "\n",
       "  internet romantic  famrel  freetime  goout Dalc Walc health absences passed  \n",
       "0       no       no       4         3      4    1    1      3        6     no  \n",
       "1      yes       no       5         3      3    1    1      3        4     no  \n",
       "2      yes       no       4         3      2    2    3      3       10    yes  \n",
       "3      yes      yes       3         2      2    1    1      5        2    yes  \n",
       "4       no       no       4         3      2    1    2      5        4    yes  \n",
       "\n",
       "[5 rows x 31 columns]"
      ]
     },
     "execution_count": 16,
     "metadata": {},
     "output_type": "execute_result"
    }
   ],
   "source": [
    "#Exemple first 5 rows of sd\n",
    "sd.head(5)"
   ]
  },
  {
   "cell_type": "markdown",
   "metadata": {},
   "source": [
    "### 1.3 - Initial Exploratory Data Analysis\n",
    "\n",
    "In this section, we conduct a general exploratory data analysis (EDA) to understand the structure and quality of the dataset. This includes:\n",
    "\n",
    "- Number of records and features\n",
    "- Feature types (categorical, numerical, ordinal)\n",
    "- Distribution of the target variable\n",
    "- Detection of missing values\n",
    "- Potential outliers or underrepresented concepts\n",
    "- Basic value distribution across selected attributes\n",
    "\n",
    "#### 1.3.1 - Dataset Dimensions and Feature Types\n"
   ]
  },
  {
   "cell_type": "code",
   "execution_count": null,
   "metadata": {},
   "outputs": [
    {
     "name": "stdout",
     "output_type": "stream",
     "text": [
      "The dataset contains 395 rows and 31 columns.\n",
      "<class 'pandas.core.frame.DataFrame'>\n",
      "RangeIndex: 395 entries, 0 to 394\n",
      "Data columns (total 31 columns):\n",
      " #   Column      Non-Null Count  Dtype \n",
      "---  ------      --------------  ----- \n",
      " 0   school      395 non-null    object\n",
      " 1   sex         395 non-null    object\n",
      " 2   age         395 non-null    int64 \n",
      " 3   address     395 non-null    object\n",
      " 4   famsize     395 non-null    object\n",
      " 5   Pstatus     395 non-null    object\n",
      " 6   Medu        395 non-null    int64 \n",
      " 7   Fedu        395 non-null    int64 \n",
      " 8   Mjob        395 non-null    object\n",
      " 9   Fjob        395 non-null    object\n",
      " 10  reason      395 non-null    object\n",
      " 11  guardian    395 non-null    object\n",
      " 12  traveltime  395 non-null    int64 \n",
      " 13  studytime   395 non-null    int64 \n",
      " 14  failures    395 non-null    int64 \n",
      " 15  schoolsup   395 non-null    object\n",
      " 16  famsup      395 non-null    object\n",
      " 17  paid        395 non-null    object\n",
      " 18  activities  395 non-null    object\n",
      " 19  nursery     395 non-null    object\n",
      " 20  higher      395 non-null    object\n",
      " 21  internet    395 non-null    object\n",
      " 22  romantic    395 non-null    object\n",
      " 23  famrel      395 non-null    int64 \n",
      " 24  freetime    395 non-null    int64 \n",
      " 25  goout       395 non-null    int64 \n",
      " 26  Dalc        395 non-null    int64 \n",
      " 27  Walc        395 non-null    int64 \n",
      " 28  health      395 non-null    int64 \n",
      " 29  absences    395 non-null    int64 \n",
      " 30  passed      395 non-null    object\n",
      "dtypes: int64(13), object(18)\n",
      "memory usage: 95.8+ KB\n"
     ]
    }
   ],
   "source": [
    "#Check the number of rows and columns\n",
    "print(f\"The dataset contains {sd.shape[0]} rows and {sd.shape[1]} columns.\")\n",
    "\n",
    "#Get general info about data types and missing values\n",
    "sd.info()\n"
   ]
  },
  {
   "cell_type": "markdown",
   "metadata": {},
   "source": [
    "From the output above, we can identify the data types of each feature and confirm whether there are any null (missing) values in the dataset.\n"
   ]
  },
  {
   "cell_type": "code",
   "execution_count": 26,
   "metadata": {},
   "outputs": [
    {
     "data": {
      "text/plain": [
       "object    18\n",
       "int64     13\n",
       "Name: count, dtype: int64"
      ]
     },
     "execution_count": 26,
     "metadata": {},
     "output_type": "execute_result"
    }
   ],
   "source": [
    "#Check data types of each column\n",
    "sd.dtypes.value_counts()"
   ]
  },
  {
   "cell_type": "markdown",
   "metadata": {},
   "source": [
    "#### 1.3.2 - Checking for Missing Values\n",
    "\n",
    "The dataset appears to contain no missing values, which simplifies the preprocessing step. However, further cleaning may be needed to address outliers or inconsistent categorical values.\n"
   ]
  },
  {
   "cell_type": "code",
   "execution_count": 20,
   "metadata": {},
   "outputs": [
    {
     "data": {
      "text/plain": [
       "school        0\n",
       "sex           0\n",
       "age           0\n",
       "address       0\n",
       "famsize       0\n",
       "Pstatus       0\n",
       "Medu          0\n",
       "Fedu          0\n",
       "Mjob          0\n",
       "Fjob          0\n",
       "reason        0\n",
       "guardian      0\n",
       "traveltime    0\n",
       "studytime     0\n",
       "failures      0\n",
       "schoolsup     0\n",
       "famsup        0\n",
       "paid          0\n",
       "activities    0\n",
       "nursery       0\n",
       "higher        0\n",
       "internet      0\n",
       "romantic      0\n",
       "famrel        0\n",
       "freetime      0\n",
       "goout         0\n",
       "Dalc          0\n",
       "Walc          0\n",
       "health        0\n",
       "absences      0\n",
       "passed        0\n",
       "dtype: int64"
      ]
     },
     "execution_count": 20,
     "metadata": {},
     "output_type": "execute_result"
    }
   ],
   "source": [
    "#Count missing values per column\n",
    "sd.isnull().sum().sort_values(ascending=False)\n"
   ]
  },
  {
   "cell_type": "markdown",
   "metadata": {},
   "source": [
    "#### 1.3.3 - Class Distribution (Target Variable: passed)\n",
    "This section examines how balanced or imbalanced the target variable `passed` is, which is essential for modeling. A strong imbalance could require resampling techniques.\n",
    "\n",
    "\n"
   ]
  },
  {
   "cell_type": "code",
   "execution_count": 30,
   "metadata": {},
   "outputs": [
    {
     "data": {
      "image/png": "[encoded data removed]",
      "text/plain": [
       "<Figure size 600x400 with 1 Axes>"
      ]
     },
     "metadata": {},
     "output_type": "display_data"
    },
    {
     "name": "stdout",
     "output_type": "stream",
     "text": [
      "Data in Percentual:\n",
      "passed\n",
      "yes    67.088608\n",
      "no     32.911392\n",
      "Name: proportion, dtype: float64\n"
     ]
    }
   ],
   "source": [
    "#Plot of Distribution of 'passed'\n",
    "plt.figure(figsize=(6,4))\n",
    "sns.countplot(data=sd, x='passed')\n",
    "plt.title('Distribution of Target Variable: passed')\n",
    "plt.ylabel('Number of Students')\n",
    "plt.xlabel('Passed')\n",
    "plt.tight_layout()\n",
    "plt.show()\n",
    "\n",
    "#Porcentual\n",
    "print(\"Data in Percentual:\")\n",
    "print(sd['passed'].value_counts(normalize=True) * 100)"
   ]
  },
  {
   "cell_type": "code",
   "execution_count": 48,
   "metadata": {},
   "outputs": [
    {
     "data": {
      "image/png": "[encoded data removed]",
      "text/plain": [
       "<Figure size 700x400 with 1 Axes>"
      ]
     },
     "metadata": {},
     "output_type": "display_data"
    },
    {
     "name": "stdout",
     "output_type": "stream",
     "text": [
      "Data in percentual:\n",
      "passed         no        yes\n",
      "school                      \n",
      "GP      32.378223  67.621777\n",
      "MS      36.956522  63.043478\n",
      "Number for school\n",
      "school\n",
      "GP    349\n",
      "MS     46\n",
      "Name: count, dtype: int64\n"
     ]
    }
   ],
   "source": [
    "#Plot of Distribution of 'passed' - by school\n",
    "\n",
    "plt.figure(figsize=(7,4))\n",
    "sns.countplot(data=sd, x='school', hue='passed')\n",
    "plt.title('Class Distribution by School')\n",
    "plt.ylabel('Number of Students')\n",
    "plt.xlabel('School')\n",
    "plt.tight_layout()\n",
    "plt.show()\n",
    "\n",
    "#Percentual\n",
    "print('Data in percentual:')\n",
    "percent_by_school = sd.groupby('school')['passed'].value_counts(normalize=True).unstack() * 100\n",
    "print(percent_by_school)\n",
    "print('Number for school')\n",
    "print((sd['school']).value_counts())\n"
   ]
  },
  {
   "cell_type": "markdown",
   "metadata": {},
   "source": []
  }
 ],
 "metadata": {
  "kernelspec": {
   "display_name": "eiacd",
   "language": "python",
   "name": "python3"
  },
  "language_info": {
   "codemirror_mode": {
    "name": "ipython",
    "version": 3
   },
   "file_extension": ".py",
   "mimetype": "text/x-python",
   "name": "python",
   "nbconvert_exporter": "python",
   "pygments_lexer": "ipython3",
   "version": "3.11.11"
  }
 },
 "nbformat": 4,
 "nbformat_minor": 2
}
